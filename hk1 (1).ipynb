{
 "cells": [
  {
   "cell_type": "code",
   "execution_count": 4,
   "id": "5e8eb38a-5c6c-4d23-b15b-6896cb317092",
   "metadata": {},
   "outputs": [
    {
     "name": "stdout",
     "output_type": "stream",
     "text": [
      "my age is: 32 and name is Hradesh\n"
     ]
    }
   ],
   "source": [
    "age=32\n",
    "name=\"Hradesh\"\n",
    "print(f\"my age is: {age} and name is {name}\")"
   ]
  },
  {
   "cell_type": "code",
   "execution_count": 7,
   "id": "35e093fb-b6ef-44ad-b12f-443c6bbbfa1a",
   "metadata": {},
   "outputs": [
    {
     "name": "stdin",
     "output_type": "stream",
     "text": [
      "Enter your name: hradesh\n"
     ]
    },
    {
     "name": "stdout",
     "output_type": "stream",
     "text": [
      "Hello hradesh! How are you?\n"
     ]
    }
   ],
   "source": [
    "name=input(\"Enter your name:\")\n",
    "print(f\"Hello {name}! How are you?\")"
   ]
  },
  {
   "cell_type": "code",
   "execution_count": 13,
   "id": "3d2da2b8-8d8e-4543-8a5c-dd1e790f5f55",
   "metadata": {},
   "outputs": [
    {
     "name": "stdin",
     "output_type": "stream",
     "text": [
      "Enter your age: 3\n"
     ]
    },
    {
     "name": "stdout",
     "output_type": "stream",
     "text": [
      "You are not young\n"
     ]
    }
   ],
   "source": [
    "age=int(input(\"Enter your age:\"))\n",
    "if age>=18 and age<45:\n",
    "    print(f\"You are a young blood with age of {age}\")\n",
    "else:\n",
    "    print(\"You are not young\")"
   ]
  },
  {
   "cell_type": "code",
   "execution_count": 5,
   "id": "7d846f69-72b7-46cc-b039-5a523a68e144",
   "metadata": {},
   "outputs": [
    {
     "name": "stdin",
     "output_type": "stream",
     "text": [
      "Enter the product price: 700\n"
     ]
    },
    {
     "name": "stdout",
     "output_type": "stream",
     "text": [
      "Price of the product after 5% discount will be: 665.0\n"
     ]
    }
   ],
   "source": [
    "pp=int(input(\"Enter the product price:\"))\n",
    "if pp>1000:\n",
    "    print(f\"Price of the product after 20% discount will be: {pp*0.8}\")\n",
    "elif pp>800:\n",
    "    print(f\"Price of the product after 10% discount will be: {pp*0.9}\")\n",
    "else:\n",
    "        print(f\"Price of the product after 5% discount will be: {pp*0.95}\")\n",
    " "
   ]
  },
  {
   "cell_type": "code",
   "execution_count": null,
   "id": "c0ba4dab-335a-45c2-a414-3758bf9bbbbf",
   "metadata": {},
   "outputs": [],
   "source": []
  }
 ],
 "metadata": {
  "kernelspec": {
   "display_name": "Python 3 (ipykernel)",
   "language": "python",
   "name": "python3"
  },
  "language_info": {
   "codemirror_mode": {
    "name": "ipython",
    "version": 3
   },
   "file_extension": ".py",
   "mimetype": "text/x-python",
   "name": "python",
   "nbconvert_exporter": "python",
   "pygments_lexer": "ipython3",
   "version": "3.10.8"
  }
 },
 "nbformat": 4,
 "nbformat_minor": 5
}
